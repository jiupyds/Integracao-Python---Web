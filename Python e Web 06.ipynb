{
 "cells": [
  {
   "cell_type": "markdown",
   "metadata": {},
   "source": [
    "# Rotina de Baixar uma Planilha da Web\n",
    "\n",
    "- Você trabalha no Mercado Financeiro e tem que todo dia/semana baixar uma planilha com as cotações do dólar\n",
    "- Usaremos o site investing.com para baixar esses dados\n",
    "- O link onde ficam esses dados é: https://br.investing.com/currencies/usd-brl-historical-data\n",
    "- Escolhemos o site investing.com porque ele é cheio de coisinha chata que vai obrigar a gente a fazer um código completo\n",
    "- Crie uma conta no site antes de começar, é gratuito"
   ]
  },
  {
   "cell_type": "code",
   "execution_count": 62,
   "metadata": {
    "scrolled": true
   },
   "outputs": [],
   "source": [
    "from selenium import webdriver\n",
    "import time\n",
    "from selenium.webdriver.common.keys import Keys\n",
    "\n",
    "\n",
    "driver = webdriver.Chrome()\n",
    "driver.get('https://br.investing.com/currencies/usd-brl-historical-data') # acessa o site\n",
    "time.sleep(5)\n",
    "\n",
    "driver.find_element_by_id('onetrust-accept-btn-handler').click() # fecha o pop-up\n",
    "\n",
    "driver.find_element_by_class_name('downloadBlueIcon').click() # tenta fazer o download do arquivo\n",
    "\n",
    "\n",
    "driver.find_element_by_id('loginFormUser_email').send_keys('jiupyds@gmail.com') # preenche com login\n",
    "driver.find_element_by_id('loginForm_password').send_keys('jiujitsu534555') # preenche com senha\n",
    "\n",
    "elementos = driver.find_elements_by_css_selector('a.orange')\n",
    "elementos[-1].click() # clica em logar com meu login e senha\n",
    "\n",
    "driver.find_element_by_class_name('downloadBlueIcon').click() # faz o download do arquivo que eu quero\n",
    "\n",
    "\n",
    "\n"
   ]
  },
  {
   "cell_type": "code",
   "execution_count": 58,
   "metadata": {},
   "outputs": [],
   "source": [
    "\n"
   ]
  }
 ],
 "metadata": {
  "kernelspec": {
   "display_name": "Python 3",
   "language": "python",
   "name": "python3"
  },
  "language_info": {
   "codemirror_mode": {
    "name": "ipython",
    "version": 3
   },
   "file_extension": ".py",
   "mimetype": "text/x-python",
   "name": "python",
   "nbconvert_exporter": "python",
   "pygments_lexer": "ipython3",
   "version": "3.8.8"
  }
 },
 "nbformat": 4,
 "nbformat_minor": 4
}
